{
 "cells": [
  {
   "cell_type": "markdown",
   "metadata": {},
   "source": [
    "<img src=\"https://bit.ly/2VnXWr2\" width=\"100\" align=\"left\">"
   ]
  },
  {
   "cell_type": "markdown",
   "metadata": {},
   "source": [
    "# Rock, Paper & Scissors\n",
    "\n",
    "Let's play the famous game against our computer. You can check the rules [here](https://en.wikipedia.org/wiki/Rock%E2%80%93paper%E2%80%93scissors). \n",
    "\n",
    "## Task\n",
    "Create a program that imitates the playability of the well known game of rock, paper, scissors. Follow the guidelines provided.\n",
    "\n",
    "## Tools\n",
    "1. Loop: **for/while**\n",
    "2. Functions: **input(), print()...**\n",
    "3. Conditional statements: **if, elif, else**\n",
    "4. Definition of functions. Modular programming\n",
    "5. Import modules\n",
    "\n",
    "**To solve this challenge, the use of functions is recommended.**\n",
    "\n",
    "#### 1. Import the choice function of the random module."
   ]
  },
  {
   "cell_type": "code",
   "execution_count": 1,
   "metadata": {},
   "outputs": [],
   "source": [
    "from random import choice"
   ]
  },
  {
   "cell_type": "markdown",
   "metadata": {},
   "source": [
    "#### 2. Create a list that includes the 3 possible gesture options of the game: 'rock', 'paper' or 'scissors'. Store the list in a variable called `gestures`."
   ]
  },
  {
   "cell_type": "code",
   "execution_count": 2,
   "metadata": {},
   "outputs": [
    {
     "name": "stdout",
     "output_type": "stream",
     "text": [
      "['rock', 'paper', 'scissors']\n"
     ]
    }
   ],
   "source": [
    "gestures = [\"rock\", \"paper\", \"scissors\"]\n",
    "print (gestures)"
   ]
  },
  {
   "cell_type": "markdown",
   "metadata": {},
   "source": [
    "#### 3. Create a variable called `n_rounds` to store the maximum number of rounds to play in a game. \n",
    "Remember that the number of rounds must be odd: 1, 3, 5, ..."
   ]
  },
  {
   "cell_type": "code",
   "execution_count": 3,
   "metadata": {},
   "outputs": [],
   "source": [
    "n_rounds = 7"
   ]
  },
  {
   "cell_type": "markdown",
   "metadata": {},
   "source": [
    "#### 4. Create a variable called `rounds_to_win` to store the number of rounds that a player must win to win the game.\n",
    "**Hint**: the value stored in `rounds_to_win` depends on the value of `n_rounds`. "
   ]
  },
  {
   "cell_type": "code",
   "execution_count": 4,
   "metadata": {},
   "outputs": [],
   "source": [
    "rounds_to_win = int(n_rounds/2) + 1\n"
   ]
  },
  {
   "cell_type": "markdown",
   "metadata": {},
   "source": [
    "#### 5. Create two variables to store the number of rounds that the computer and the player have won. Call these variables `cpu_score` and `player_score`."
   ]
  },
  {
   "cell_type": "code",
   "execution_count": 5,
   "metadata": {},
   "outputs": [],
   "source": [
    "cpu_score = 0\n",
    "player_score = 0"
   ]
  },
  {
   "cell_type": "markdown",
   "metadata": {},
   "source": [
    "#### 6. Define a function that randomly returns one of the 3 gesture options.\n",
    "You will use this function to simulate the gesture choice of the computer. "
   ]
  },
  {
   "cell_type": "code",
   "execution_count": 6,
   "metadata": {},
   "outputs": [
    {
     "name": "stdout",
     "output_type": "stream",
     "text": [
      "['paper', 'paper', 'scissors']\n"
     ]
    }
   ],
   "source": [
    "def generate_random_gestures(no_of_gestures):\n",
    "    random_gestures = []\n",
    "    while no_of_gestures > 0:\n",
    "        random_gestures.append(choice(gestures))\n",
    "        no_of_gestures -= 1\n",
    "    return random_gestures\n",
    "print (str(generate_random_gestures(3)))"
   ]
  },
  {
   "cell_type": "markdown",
   "metadata": {},
   "source": [
    "#### 7. Define a function that asks the player which is the gesture he or she wants to show: 'rock', 'paper' or 'scissors'.\n",
    "The player should only be allowed to choose one of the 3 gesture options. If the player's choice is not rock, paper or scissors, keep asking until it is."
   ]
  },
  {
   "cell_type": "code",
   "execution_count": 7,
   "metadata": {},
   "outputs": [],
   "source": [
    "def read_player_gesture():\n",
    "    print(\"Please enter your gesture:\")\n",
    "    player_gesture = input()\n",
    "    while player_gesture not in gestures:\n",
    "        print (\"Please enter one of the following values: 'rock', 'paper' or 'scissors'.\")\n",
    "        player_gesture = input()\n",
    "    return player_gesture\n",
    "\n",
    "#print(\"Thank you! You have entered: \" + str(read_player_gesture())) "
   ]
  },
  {
   "cell_type": "markdown",
   "metadata": {},
   "source": [
    "#### 8. Define a function that checks who won a round. \n",
    "The function should return 0 if there is a tie, 1 if the computer wins and 2 if the player wins."
   ]
  },
  {
   "cell_type": "code",
   "execution_count": 8,
   "metadata": {},
   "outputs": [
    {
     "name": "stdout",
     "output_type": "stream",
     "text": [
      "2\n"
     ]
    }
   ],
   "source": [
    "def check_who_won(player_gesture, computer_gesture):\n",
    "    if player_gesture == computer_gesture:\n",
    "        return 0\n",
    "    if player_gesture == 'rock':\n",
    "        if computer_gesture == 'scissors':\n",
    "            return 2\n",
    "        else:\n",
    "            return 1\n",
    "    elif player_gesture == 'paper':\n",
    "        if computer_gesture == 'rock':\n",
    "            return 2\n",
    "        else:\n",
    "            return 1\n",
    "    else:\n",
    "        if computer_gesture == 'paper':\n",
    "            return 2\n",
    "        else:\n",
    "            return 1\n",
    "        \n",
    "print (check_who_won('scissors','paper'))\n",
    "            "
   ]
  },
  {
   "cell_type": "markdown",
   "metadata": {},
   "source": [
    "#### 9. Define a function that prints the choice of the computer, the choice of the player and a message that announces who won the current round. \n",
    "You should also use this function to update the variables that count the number of rounds that the computer and the player have won. The score of the winner increases by one point. If there is a tie, the score does not increase."
   ]
  },
  {
   "cell_type": "code",
   "execution_count": 9,
   "metadata": {},
   "outputs": [],
   "source": [
    "def execute_game_round(player_gesture, computer_gesture):\n",
    "    global cpu_score\n",
    "    global player_score\n",
    "    print (\"Computer choice is: \" + str(computer_gesture))\n",
    "    print (\"Player choice is: \" + str(player_gesture))\n",
    "    winner = check_who_won(player_gesture, computer_gesture)\n",
    "    if winner == 1:\n",
    "        cpu_score += 1\n",
    "        print (\"Computer wins\")\n",
    "    elif winner == 2:\n",
    "        player_score += 1\n",
    "        print (\"Player wins\")    "
   ]
  },
  {
   "cell_type": "markdown",
   "metadata": {},
   "source": [
    "#### 10. Now it's time to code the execution of the game using the functions and variables you defined above. \n",
    "\n",
    "First, create a loop structure that repeats while no player reaches the minimum score necessary to win and the number of rounds is less than the maximum number of rounds to play in a game.  \n",
    "\n",
    "Inside the loop, use the functions and variables above to create the execution of a round: ask for the player's choice, generate the random choice of the computer, show the round results, update the scores, etc. "
   ]
  },
  {
   "cell_type": "code",
   "execution_count": 10,
   "metadata": {},
   "outputs": [
    {
     "name": "stdout",
     "output_type": "stream",
     "text": [
      "Please enter your gesture:\n",
      "paper\n",
      "Computer choice is: rock\n",
      "Player choice is: paper\n",
      "Player wins\n",
      "Please enter your gesture:\n",
      "rock\n",
      "Computer choice is: rock\n",
      "Player choice is: rock\n",
      "Please enter your gesture:\n",
      "paper\n",
      "Computer choice is: paper\n",
      "Player choice is: paper\n",
      "Please enter your gesture:\n",
      "rock\n",
      "Computer choice is: scissors\n",
      "Player choice is: rock\n",
      "Player wins\n",
      "Please enter your gesture:\n",
      "scissors\n",
      "Computer choice is: paper\n",
      "Player choice is: scissors\n",
      "Player wins\n",
      "Please enter your gesture:\n",
      "paper\n",
      "Computer choice is: paper\n",
      "Player choice is: paper\n",
      "Please enter your gesture:\n",
      "rock\n",
      "Computer choice is: scissors\n",
      "Player choice is: rock\n",
      "Player wins\n",
      "The final score is: 4 Player - 0 Computer.\n"
     ]
    }
   ],
   "source": [
    "current_no_rounds = 0\n",
    "while player_score < rounds_to_win and cpu_score < rounds_to_win and current_no_rounds < n_rounds:\n",
    "    player_choice = read_player_gesture()\n",
    "    cpu_choice = generate_random_gestures(1)\n",
    "    execute_game_round (player_choice, cpu_choice[0])\n",
    "    current_no_rounds +=1\n",
    "    "
   ]
  },
  {
   "cell_type": "markdown",
   "metadata": {},
   "source": [
    "#### 11. Print the winner of the game based on who won more rounds.\n",
    "Remember that the game might be tied. "
   ]
  },
  {
   "cell_type": "code",
   "execution_count": 12,
   "metadata": {},
   "outputs": [
    {
     "name": "stdout",
     "output_type": "stream",
     "text": [
      "The player wins the game! The final score is: 4 Player - 0 Computer.\n"
     ]
    }
   ],
   "source": [
    "if cpu_score < player_score:\n",
    "    print (\"The player wins the game! The final score is: \" + str(player_score) + \" Player - \" + str(cpu_score) + \" Computer.\")\n",
    "elif player_score < cpu_score:\n",
    "    print (\"The computer wins the game! The final score is: \" + str(player_score) + \" Player - \" + str(cpu_score) + \" Computer.\")\n",
    "else:\n",
    "    print (\"The game ended with a tie! The final score is: \" + str(player_score) + \" Player - \" + str(cpu_score) + \" Computer.\")"
   ]
  },
  {
   "cell_type": "markdown",
   "metadata": {},
   "source": [
    "# Bonus: Rock, Paper, Scissors, Lizard & Spock\n",
    "![](images/rpsls.jpg)\n",
    "\n",
    "In this challenge, you need to improve the previous game by adding two new options. To know more about the rules of the improved version of rock, paper, scissors, check this [link](http://www.samkass.com/theories/RPSSL.html). \n",
    "\n",
    "In addition, you will also need to improve how the game interacts with the player: the number of rounds to play, which must be an odd number, will be requested to the user until a valid number is entered. Define a new function to make that request.\n",
    "\n",
    "**Hint**: Try to reuse the code that you already coded in the previous challenge. If your code is efficient, this bonus will only consist of simple modifications to the original game."
   ]
  },
  {
   "cell_type": "code",
   "execution_count": null,
   "metadata": {},
   "outputs": [],
   "source": []
  }
 ],
 "metadata": {
  "kernelspec": {
   "display_name": "Python 3",
   "language": "python",
   "name": "python3"
  },
  "language_info": {
   "codemirror_mode": {
    "name": "ipython",
    "version": 3
   },
   "file_extension": ".py",
   "mimetype": "text/x-python",
   "name": "python",
   "nbconvert_exporter": "python",
   "pygments_lexer": "ipython3",
   "version": "3.7.6"
  }
 },
 "nbformat": 4,
 "nbformat_minor": 2
}
