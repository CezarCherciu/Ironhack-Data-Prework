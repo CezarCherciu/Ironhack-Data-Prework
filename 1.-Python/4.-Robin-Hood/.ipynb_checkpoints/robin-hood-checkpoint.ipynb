{
 "cells": [
  {
   "cell_type": "markdown",
   "metadata": {},
   "source": [
    "<img src=\"https://bit.ly/2VnXWr2\" width=\"100\" align=\"left\"/>"
   ]
  },
  {
   "cell_type": "markdown",
   "metadata": {},
   "source": [
    "# Robin Hood\n",
    "Robin Hood has entered a competition to win the archery contest in Sherwood. With his bow and arrows, he needs to shoot on a target and try to hit as close as possible to the center.\n",
    "\n",
    "![](images/arrows.jpg)\n",
    "\n",
    "## Context\n",
    "In this challenge, the landing position of arrows shot by archers in the competition will be represented using 2-dimensional coordinates. \n",
    "\n",
    "In the 2-dimensional space, a point can be defined by a pair of values that correspond to the horizontal coordinate (x) and the vertical coordinate (y). For example, in our case, an arrow that hits the center of the archery target will land in position (0, 0) on the coordinate axes. \n",
    "\n",
    "The space can be divided into 4 zones (quadrants): Q1, Q2, Q3, Q4. If a point is in Q1, both its x coordinate and y coordinate are positive. Any point with a null x or y coordinate is considered to not belong to any quadrant. \n",
    "\n",
    "If you want to know more about the cartesian coordinate system, you can check this [link](https://en.wikipedia.org/wiki/Cartesian_coordinate_system). \n",
    "\n",
    "## Tools\n",
    "You don't necessarily need to use all the tools. Maybe you opt to use some of them or completely different ones, they are given to help you shape the exercise. Programming exercises can be solved in many different ways.\n",
    "* Data structures: **lists, sets, tuples**\n",
    "* Conditional statements: **if-elif-else**\n",
    "* Loop: **while/for**\n",
    "* Minimum (optional sorting)\n",
    "\n",
    "## Tasks\n",
    "Robin Hood has hit the following points:"
   ]
  },
  {
   "cell_type": "code",
   "execution_count": 1,
   "metadata": {},
   "outputs": [],
   "source": [
    "points = [(4, 5), (-0, 2), (4, 7), (1, -3), (3, -2), (4, 5), (3, 2), (5, 7), (-5, 7), (2, 2), (-4, 5), (0, -2),\n",
    "          (-4, 7), (-1, 3), (-3, 2), (-4, -5), (-3, 2), (5, 7), (5, 7), (2, 2), (9, 9), (-8, -9)]"
   ]
  },
  {
   "cell_type": "markdown",
   "metadata": {},
   "source": [
    "#### 1. Robin Hood is famous for hitting an arrow with another arrow. Find the coordinates of the points where an arrow hits another arrow."
   ]
  },
  {
   "cell_type": "code",
   "execution_count": 2,
   "metadata": {},
   "outputs": [
    {
     "name": "stdout",
     "output_type": "stream",
     "text": [
      "{(4, 5), (5, 7), (-3, 2), (2, 2)}\n"
     ]
    }
   ],
   "source": [
    "identical_coordinates = set()\n",
    "for arrow_shot in points:\n",
    "    number_of_duplicates = 0\n",
    "    for search_shot in points: \n",
    "        if arrow_shot == search_shot:\n",
    "            number_of_duplicates += 1\n",
    "    if number_of_duplicates > 1:\n",
    "        identical_coordinates.add(arrow_shot)\n",
    "    \n",
    "print (str(identical_coordinates))"
   ]
  },
  {
   "cell_type": "markdown",
   "metadata": {},
   "source": [
    "#### 2. Calculate how many arrows have fallen in each quadrant. \n",
    "**Note**: the arrows that fall in the axis (x=0 or y=0) don't belong to any quadrant."
   ]
  },
  {
   "cell_type": "code",
   "execution_count": 9,
   "metadata": {},
   "outputs": [
    {
     "name": "stdout",
     "output_type": "stream",
     "text": [
      "The number of arrows that have fallen in quadrant 1 is 10\n",
      "The number of arrows that have fallen in quadrant 2 is 6\n",
      "The number of arrows that have fallen in quadrant 3 is 2\n",
      "The number of arrows that have fallen in quadrant 4 is 2\n"
     ]
    }
   ],
   "source": [
    "quadrant1 = 0\n",
    "quadrant2 = 0\n",
    "quadrant3 = 0\n",
    "quadrant4 = 0\n",
    "for arrow_shot in points:\n",
    "    if arrow_shot[0] > 0 and arrow_shot[1] > 0:\n",
    "        quadrant1 += 1\n",
    "    elif arrow_shot[0] < 0 and arrow_shot[1] > 0:\n",
    "        quadrant2 += 1\n",
    "    elif arrow_shot[0] < 0 and arrow_shot[1] < 0:\n",
    "        quadrant3 += 1\n",
    "    elif arrow_shot[0] > 0 and arrow_shot[1] < 0:\n",
    "        quadrant4 += 1\n",
    "print (\"The number of arrows that have fallen in quadrant 1 is \" + str(quadrant1))\n",
    "print (\"The number of arrows that have fallen in quadrant 2 is \" + str(quadrant2))\n",
    "print (\"The number of arrows that have fallen in quadrant 3 is \" + str(quadrant3))\n",
    "print (\"The number of arrows that have fallen in quadrant 4 is \" + str(quadrant4))"
   ]
  },
  {
   "cell_type": "markdown",
   "metadata": {},
   "source": [
    "#### 3. Find the point closest to the center. Calculate its distance to the center. \n",
    "Take into account that there might be more than one point at the minimum distance to the center.\n",
    "\n",
    "**Hint**: Use the Euclidean distance. You can find more information about it [here](https://en.wikipedia.org/wiki/Euclidean_distance).  \n",
    "**Hint**: Defining a function that calculates the distance to the center can help."
   ]
  },
  {
   "cell_type": "code",
   "execution_count": 18,
   "metadata": {},
   "outputs": [
    {
     "name": "stdout",
     "output_type": "stream",
     "text": [
      "The closest point to the center is (0, 2)\n",
      "The minimum distance to the center is 2.0\n"
     ]
    }
   ],
   "source": [
    "import math\n",
    "def calculate_distance_to_center(point):\n",
    "    center = (0, 0)\n",
    "    distance = math.sqrt(sum([(a - b) ** 2 for a, b in zip(center, point)]))\n",
    "    return distance\n",
    "\n",
    "minimum_distance = 999\n",
    "closest_point_coordinates = (999,999)\n",
    "for arrow_shot in points:\n",
    "    current_distance = calculate_distance_to_center(arrow_shot)\n",
    "    if current_distance < minimum_distance:\n",
    "        minimum_distance = current_distance\n",
    "        closest_point_coordinates = arrow_shot \n",
    "print (\"The closest point to the center is \" + str(closest_point_coordinates))\n",
    "print (\"The minimum distance to the center is \" + str(minimum_distance))"
   ]
  },
  {
   "cell_type": "markdown",
   "metadata": {},
   "source": [
    "#### 4. If the archery target has a radius of 9, calculate the number of arrows that won't hit the target. \n",
    "**Hint**: Use the function created in step 3. "
   ]
  },
  {
   "cell_type": "code",
   "execution_count": 19,
   "metadata": {},
   "outputs": [
    {
     "name": "stdout",
     "output_type": "stream",
     "text": [
      "The number of arrows that didn't hit the target is 2\n"
     ]
    }
   ],
   "source": [
    "arrows_outside_target = 0\n",
    "for arrow_shot in points:\n",
    "    current_distance = calculate_distance_to_center(arrow_shot)\n",
    "    if current_distance > 9:\n",
    "        arrows_outside_target += 1\n",
    "        \n",
    "print (\"The number of arrows that didn't hit the target is \" + str(arrows_outside_target))"
   ]
  },
  {
   "cell_type": "code",
   "execution_count": null,
   "metadata": {},
   "outputs": [],
   "source": []
  }
 ],
 "metadata": {
  "kernelspec": {
   "display_name": "Python 3",
   "language": "python",
   "name": "python3"
  },
  "language_info": {
   "codemirror_mode": {
    "name": "ipython",
    "version": 3
   },
   "file_extension": ".py",
   "mimetype": "text/x-python",
   "name": "python",
   "nbconvert_exporter": "python",
   "pygments_lexer": "ipython3",
   "version": "3.7.6"
  }
 },
 "nbformat": 4,
 "nbformat_minor": 2
}
